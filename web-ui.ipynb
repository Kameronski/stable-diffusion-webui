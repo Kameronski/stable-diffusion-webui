{
 "cells": [
  {
   "cell_type": "code",
   "execution_count": null,
   "id": "186764ce-af8d-4e63-8176-35bc43eb944f",
   "metadata": {},
   "outputs": [],
   "source": [
    "!pip install gdown\n",
    "!apt-get update && apt-get install libgl1 libgtk2.0-dev\n",
    "!gdown https://drive.google.com/drive/folders/1HMRIrLgoZ8Eu8p_utsgoTxfc356KKslB?usp=sharing --folder"
   ]
  },
  {
   "cell_type": "code",
   "execution_count": 1,
   "id": "6cd4dbfb-74c2-4bb2-960c-85b1fcad0b94",
   "metadata": {},
   "outputs": [
    {
     "name": "stdout",
     "output_type": "stream",
     "text": [
      "Python 3.7.13 (default, Mar 29 2022, 02:18:16) \n",
      "[GCC 7.5.0]\n",
      "Commit hash: 08b3f7aef15f74f4d2254b1274dd66fcc7940348\n",
      "Installing gfpgan\n",
      "Installing clip\n",
      "Cloning Stable Diffusion into repositories/stable-diffusion...\n",
      "Cloning Taming Transformers into repositories/taming-transformers...\n",
      "Cloning K-diffusion into repositories/k-diffusion...\n",
      "Cloning CodeFormer into repositories/CodeFormer...\n",
      "Cloning BLIP into repositories/BLIP...\n",
      "Installing requirements for CodeFormer\n",
      "Installing requirements for Web UI\n",
      "Exiting because of --exit argument\n"
     ]
    }
   ],
   "source": [
    "!COMMANDLINE_ARGS=\"--exit\" REQS_FILE=\"requirements.txt\" python launch.py"
   ]
  },
  {
   "cell_type": "code",
   "execution_count": 3,
   "id": "5470448c-00ad-46f9-8d66-6771e6b34f3f",
   "metadata": {},
   "outputs": [
    {
     "name": "stdout",
     "output_type": "stream",
     "text": [
      "[Errno 2] No such file or directory: 'stable-diffusion-webui'\n",
      "/workspace/stable-diffusion-webui\n",
      "Already up to date.\n"
     ]
    }
   ],
   "source": [
    "%cd stable-diffusion-webui\n",
    "!git pull"
   ]
  },
  {
   "cell_type": "code",
   "execution_count": 4,
   "id": "73ec0f72-62d4-4bed-8ca9-239a4e11779f",
   "metadata": {},
   "outputs": [
    {
     "name": "stdout",
     "output_type": "stream",
     "text": [
      "Python 3.7.13 (default, Mar 29 2022, 02:18:16) \n",
      "[GCC 7.5.0]\n",
      "Commit hash: 08b3f7aef15f74f4d2254b1274dd66fcc7940348\n",
      "Installing requirements for Web UI\n",
      "Launching Web UI with arguments: --share --gradio-debug --gradio-auth nk:826601\n",
      "Traceback (most recent call last):\n",
      "  File \"launch.py\", line 169, in <module>\n",
      "    start_webui()\n",
      "  File \"launch.py\", line 163, in start_webui\n",
      "    import webui\n",
      "  File \"/workspace/stable-diffusion-webui/webui.py\", line 12, in <module>\n",
      "    from modules import devices, sd_samplers\n",
      "  File \"/workspace/stable-diffusion-webui/modules/sd_samplers.py\", line 10, in <module>\n",
      "    from modules import prompt_parser, devices, processing\n",
      "  File \"/workspace/stable-diffusion-webui/modules/processing.py\", line 10, in <module>\n",
      "    import cv2\n",
      "  File \"/opt/conda/lib/python3.7/site-packages/cv2/__init__.py\", line 181, in <module>\n",
      "    bootstrap()\n",
      "  File \"/opt/conda/lib/python3.7/site-packages/cv2/__init__.py\", line 153, in bootstrap\n",
      "    native_module = importlib.import_module(\"cv2\")\n",
      "  File \"/opt/conda/lib/python3.7/importlib/__init__.py\", line 127, in import_module\n",
      "    return _bootstrap._gcd_import(name[level:], package, level)\n",
      "ImportError: libGL.so.1: cannot open shared object file: No such file or directory\n"
     ]
    }
   ],
   "source": [
    "!COMMANDLINE_ARGS=\"--share --gradio-debug --gradio-auth nk:826601\" REQS_FILE=\"requirements.txt\" python launch.py"
   ]
  }
 ],
 "metadata": {
  "kernelspec": {
   "display_name": "Python 3 (ipykernel)",
   "language": "python",
   "name": "python3"
  },
  "language_info": {
   "codemirror_mode": {
    "name": "ipython",
    "version": 3
   },
   "file_extension": ".py",
   "mimetype": "text/x-python",
   "name": "python",
   "nbconvert_exporter": "python",
   "pygments_lexer": "ipython3",
   "version": "3.7.13"
  }
 },
 "nbformat": 4,
 "nbformat_minor": 5
}
